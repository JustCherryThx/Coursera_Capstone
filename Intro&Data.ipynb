{
 "cells": [
  {
   "cell_type": "markdown",
   "metadata": {},
   "source": [
    "# Clearly define a problem or an idea of your choice, where you would need to leverage the Foursquare location data to solve or execute. Remember that data science problems always target an audience and are meant to help a group of stakeholders solve a problem, so make sure that you explicitly describe your audience and why they would care about your problem.\n",
    "\n",
    "This submission will eventually become your Introduction/Business Problem section in your final report. So I recommend that you push the report (having your Introduction/Business Problem section only for now) to your Github repository and submit a link to it."
   ]
  },
  {
   "cell_type": "markdown",
   "metadata": {},
   "source": [
    "There is currently a pandemic of a flu-like virus spreading across the globe that has caused panic amidst that worldwide population and has brought forward different flaws in the responses that we have available. The location data will be able to show where concentrations of individuals have been identified with confirmed cases of COVID-19, as well as will show the spread into a larger population. This collection will show how populations that have already been infected have quelled the spread of the virus versus where current known cases in MN and will hopefully assist with the least amount of infection being spread as possible. I almost want to compare it to fictional data to show the spread of a zombie virus but because this is an infection that seems to be targeting the respiratory system and travel through the air and regular contact versus a bite, it would be difficult to compare as airborne viruses spread more easily and we don't have set data on duration of transferrance of the virus until showing symptoms, etc.\n",
    "\n",
    "This information would be available for lawmakers, health professionals, and the public to show what changes need to be made, or what policies are currently in place that work well, to have the best approach to health care - namely how preventive versus reactive responses aid in containment of the deadly virus. As of now there are confirmed cases that have been transmitted through both travel and through the community and data about the spread of the virus through Italy (as an outline of not containing the virus and affecting a large part of the population versus Hong Kong or Singapore, populations that have fairly effectively kept the amount of known cases to a minimum).\n",
    "\n",
    "Update 3/24/2020: At this time, MN has had partial shut down of businesses (salons, bars, event venues, restaurants except for delivery or takeout service), it is advised that any gathering that would have more than 10 people in one space are cancelled, and public transit (MetroTransit) has been cut down to about 60% of its regularly scheduled routes (no service between 11pm and 4:30am and running less frequently during day time). These actions have, according to Gov. Walz, assisted in reducing the spread of COVID-19 although it is believed that 10-100x more cases are active in the community than can be positively identified due to lack of testing availability.\n",
    "\n",
    "At this time I am going to compare the difference of confirmed cases and the spread of the illness in MN compared to the spread in other states New York and California, whom we have appeared to have followed in taking actions to close cities down in response to the outbreak as well as with Italy where we have seen the outbreak go initally uncontrolled and the resulting spread of infected persons."
   ]
  },
  {
   "cell_type": "markdown",
   "metadata": {},
   "source": [
    "# Describe the data that you will be using to solve the problem or execute your idea. Remember that you will need to use the Foursquare location data to solve the problem or execute your idea. You can absolutely use other datasets in combination with the Foursquare location data. So make sure that you provide adequate explanation and discussion, with examples, of the data that you will be using, even if it is only Foursquare location data.\n",
    "\n",
    "This submission will eventually become your Data section in your final report. So I recommend that you push the report (having your Data section) to your Github repository and submit a link to it."
   ]
  },
  {
   "cell_type": "markdown",
   "metadata": {},
   "source": [
    "Ok -\n",
    "\n",
    "Right now this is tough to pinpoint and I would love to hear feedback as the information available is updated daily and I am having a hard time deciding at what point to put a stop on data collection since, although data is still incoming, it is not relevant to this project. At the same time, I love having chosen a topic that is relevant to this real-world situation.\n",
    "\n",
    "As far as the data that I would use and compare - then being able to recommend whether MN is using the correct response to \"flatten the curve\" on the outbreak of COVID-19 is updated daily on https://www.health.state.mn.us/diseases/coronavirus/situation.html which reports the total daily new cases vs. total overall cases. Again this is positively identified via confirmed testing and does not represent the projected number of actual infected individuals that are asymptomatic or are unable to be tested.\n",
    "\n",
    "There is also data from https://www.esri.com/arcgis-blog/products/product/public-safety/coronavirus-covid-19-data-available-by-county-from-johns-hopkins-university/ that shows the spread of the virus through different states and counties to compare how it is acting in MN versus other epicenters.\n",
    "\n",
    "From the sheer amount of information available and new publications I may just need to pare this down further to MN's most highly impacted counties.\n",
    "\n",
    "This can at least check between, say, Los Angeles/San Francisco and Minneapolis/St Paul."
   ]
  }
 ],
 "metadata": {
  "celltoolbar": "Raw Cell Format",
  "kernelspec": {
   "display_name": "Python 3.6",
   "language": "python",
   "name": "python3"
  },
  "language_info": {
   "codemirror_mode": {
    "name": "ipython",
    "version": 3
   },
   "file_extension": ".py",
   "mimetype": "text/x-python",
   "name": "python",
   "nbconvert_exporter": "python",
   "pygments_lexer": "ipython3",
   "version": "3.6.9"
  }
 },
 "nbformat": 4,
 "nbformat_minor": 2
}
