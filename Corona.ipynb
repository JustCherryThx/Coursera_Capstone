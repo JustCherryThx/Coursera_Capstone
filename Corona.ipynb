{
 "cells": [
  {
   "cell_type": "markdown",
   "metadata": {},
   "source": [
    "Clearly define a problem or an idea of your choice, where you would need to leverage the Foursquare location data to solve or execute. Remember that data science problems always target an audience and are meant to help a group of stakeholders solve a problem, so make sure that you explicitly describe your audience and why they would care about your problem.\n",
    "\n",
    "This submission will eventually become your Introduction/Business Problem section in your final report. So I recommend that you push the report (having your Introduction/Business Problem section only for now) to your Github repository and submit a link to it."
   ]
  },
  {
   "cell_type": "markdown",
   "metadata": {},
   "source": [
    "There is currently a pandemic of a flu-like virus spreading across the globe that has caused panic amidst that worldwide population and has brought forward different flaws in the responses that we have available. The location data will be able to show where concentrations of individuals have been identified with confirmed cases of COVID-19, as well as will show the spread into a larger population. This collection will show how populations that have already been infected have quelled the spread of the virus versus where current known cases in MN and will hopefully assist with the least amount of infection being spread as possible. I almost want to compare it to fictional data to show the spread of a zombie virus but because this is an infection that seems to be targeting the respiratory system and travel through the air and regular contact versus a bite, it would be difficult to compare as airborne viruses spread more easily and we don't have set data on duration of transferrance of the virus until showing symptoms, etc.\n",
    "\n",
    "What this information can also help with is to educate the public about how preventative care and efforts may benefit MN intead of having a reactive response once cases are being diagnosed."
   ]
  }
 ],
 "metadata": {
  "kernelspec": {
   "display_name": "Python 3",
   "language": "python",
   "name": "python3"
  },
  "language_info": {
   "codemirror_mode": {
    "name": "ipython",
    "version": 3
   },
   "file_extension": ".py",
   "mimetype": "text/x-python",
   "name": "python",
   "nbconvert_exporter": "python",
   "pygments_lexer": "ipython3",
   "version": "3.7.4"
  }
 },
 "nbformat": 4,
 "nbformat_minor": 2
}
